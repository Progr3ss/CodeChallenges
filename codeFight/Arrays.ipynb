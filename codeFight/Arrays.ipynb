{
 "cells": [
  {
   "cell_type": "code",
   "execution_count": 3,
   "metadata": {
    "collapsed": true
   },
   "outputs": [],
   "source": [
    "a = [2,3,3,1,5,2]\n",
    "# a = [7,4,5,6,4,2,3]"
   ]
  },
  {
   "cell_type": "code",
   "execution_count": 21,
   "metadata": {
    "collapsed": true
   },
   "outputs": [],
   "source": [
    "def firstDuplicate(a):\n",
    "    found = 0\n",
    "    for i in range(0, len(a)):\n",
    "        item = abs(a[i])\n",
    "        if (a[item - 1] > 0):\n",
    "            a[item-1] = -1 * a[item-1]\n",
    "        else:\n",
    "            found = abs(a[i])\n",
    "    return abs(a[found])\n",
    "  "
   ]
  },
  {
   "cell_type": "code",
   "execution_count": 22,
   "metadata": {},
   "outputs": [
    {
     "data": {
      "text/plain": [
       "3"
      ]
     },
     "execution_count": 22,
     "metadata": {},
     "output_type": "execute_result"
    }
   ],
   "source": [
    "firstDuplicate(a)"
   ]
  },
  {
   "cell_type": "code",
   "execution_count": 25,
   "metadata": {},
   "outputs": [
    {
     "name": "stdout",
     "output_type": "stream",
     "text": [
      "4\n"
     ]
    }
   ],
   "source": [
    "def firstDuplicate2(a):\n",
    "    \n",
    "   aset = set()\n",
    "\n",
    "   for i in a:\n",
    "        \n",
    "        if i in aset:\n",
    "            \n",
    "            return i\n",
    "        else:   \n",
    "            aset.add(i)\n",
    "\n",
    "print(firstDuplicate2([7,4,5,6,4,6,3]))  "
   ]
  },
  {
   "cell_type": "code",
   "execution_count": 34,
   "metadata": {
    "collapsed": true
   },
   "outputs": [],
   "source": [
    "b =  [8, 3, 4,4, 5, 2, 8,4]"
   ]
  },
  {
   "cell_type": "code",
   "execution_count": 35,
   "metadata": {
    "collapsed": true
   },
   "outputs": [],
   "source": [
    "def arrayCenter(a):\n",
    "    n = len(a)\n",
    "    suma = a[0]\n",
    "    mina = a[0]\n",
    "    for i in range(1, n):\n",
    "        suma += a[i]\n",
    "        mina = min(mina, a[i])\n",
    "\n",
    "    b = []\n",
    "    for i in range(n):\n",
    "        if abs(n * a[i] - suma) < mina:\n",
    "            b.append(a[i-1])\n",
    "            b.append(a[i])\n",
    "    return b\n"
   ]
  },
  {
   "cell_type": "code",
   "execution_count": 36,
   "metadata": {},
   "outputs": [
    {
     "data": {
      "text/plain": [
       "[]"
      ]
     },
     "execution_count": 36,
     "metadata": {},
     "output_type": "execute_result"
    }
   ],
   "source": [
    "arrayCenter(b)"
   ]
  },
  {
   "cell_type": "code",
   "execution_count": 41,
   "metadata": {
    "collapsed": true
   },
   "outputs": [],
   "source": [
    "def firstDuplicate3(a):\n",
    "    mySet = set()\n",
    "    \n",
    "    for el in a:\n",
    "        if el in mySet:\n",
    "            return el\n",
    "        mySet.add(el)\n",
    "    return -1\n"
   ]
  },
  {
   "cell_type": "code",
   "execution_count": 43,
   "metadata": {},
   "outputs": [
    {
     "name": "stdout",
     "output_type": "stream",
     "text": [
      "{1, 2, 3, 5}\n"
     ]
    },
    {
     "data": {
      "text/plain": [
       "-1"
      ]
     },
     "execution_count": 43,
     "metadata": {},
     "output_type": "execute_result"
    }
   ],
   "source": [
    "firstDuplicate3(a)"
   ]
  },
  {
   "cell_type": "code",
   "execution_count": 1,
   "metadata": {
    "collapsed": true
   },
   "outputs": [],
   "source": [
    "s = 'abacabad'\n"
   ]
  },
  {
   "cell_type": "code",
   "execution_count": 23,
   "metadata": {
    "collapsed": true
   },
   "outputs": [],
   "source": [
    "def firstNotRepeatingCharacter(s):\n",
    "    \n",
    "    mySet = set()\n",
    "    ones = []\n",
    "    for i in s:\n",
    "        if s.count(i) == 1:\n",
    "            \n",
    "            ones.append(i)\n",
    "            \n",
    "        for j in ones:\n",
    "            \n",
    "            if j in mySet:\n",
    "                return j \n",
    "\n",
    "        mySet.add(i)\n",
    "    \n",
    "    return  '_'"
   ]
  },
  {
   "cell_type": "code",
   "execution_count": 24,
   "metadata": {},
   "outputs": [
    {
     "data": {
      "text/plain": [
       "'c'"
      ]
     },
     "execution_count": 24,
     "metadata": {},
     "output_type": "execute_result"
    }
   ],
   "source": [
    "firstNotRepeatingCharacter(s)"
   ]
  },
  {
   "cell_type": "code",
   "execution_count": 28,
   "metadata": {
    "collapsed": true
   },
   "outputs": [],
   "source": [
    "def firstNotRepeatingCharacter2(s):\n",
    "    mySet = set()\n",
    "    ones = []\n",
    "    \n",
    "    if len(s) == 1:\n",
    "        return s[0]\n",
    "    for i in s:\n",
    "        if s.count(i) == 1:\n",
    "            ones.append(i)\n",
    "            \n",
    "        mySet.add(i)\n",
    "    for j in ones:\n",
    "        if j in mySet:\n",
    "            return j\n",
    "    return '_'"
   ]
  },
  {
   "cell_type": "code",
   "execution_count": 27,
   "metadata": {},
   "outputs": [
    {
     "data": {
      "text/plain": [
       "'c'"
      ]
     },
     "execution_count": 27,
     "metadata": {},
     "output_type": "execute_result"
    }
   ],
   "source": [
    "firstNotRepeatingCharacter2(s)"
   ]
  },
  {
   "cell_type": "code",
   "execution_count": 49,
   "metadata": {
    "collapsed": true
   },
   "outputs": [],
   "source": [
    "def firstNotRepeatingCharacter3(s):\n",
    "    chk = []\n",
    "    for i in range(len(s)): \n",
    "        \n",
    "        if s[i] not in s[i+1:] and s[i] not in chk:\n",
    "            print(s[i])\n",
    "            return s[i]\n",
    "        chk.append(s[i])\n",
    "    return '_'\n",
    "            \n"
   ]
  },
  {
   "cell_type": "code",
   "execution_count": 50,
   "metadata": {},
   "outputs": [
    {
     "name": "stdout",
     "output_type": "stream",
     "text": [
      "c\n"
     ]
    },
    {
     "data": {
      "text/plain": [
       "'c'"
      ]
     },
     "execution_count": 50,
     "metadata": {},
     "output_type": "execute_result"
    }
   ],
   "source": [
    "firstNotRepeatingCharacter3(s)"
   ]
  },
  {
   "cell_type": "code",
   "execution_count": 261,
   "metadata": {
    "collapsed": true
   },
   "outputs": [],
   "source": [
    "a = [[1,2,3,],\n",
    "     [4,5,6],\n",
    "     [7,8,9]]\n",
    "\n",
    "\n",
    "#out = [[7,4,1],\n",
    "#        [8,5,2],\n",
    "#        [9,6,3]]"
   ]
  },
  {
   "cell_type": "code",
   "execution_count": 279,
   "metadata": {
    "collapsed": true
   },
   "outputs": [],
   "source": [
    "def rotateImage(a):\n",
    "    a.reverse()\n",
    "    for i in range(len(a)):\n",
    "        for j in range(i):\n",
    "            a[i][j], a[j][i] = a[j][i], a[i][j]\n",
    "    return a\n"
   ]
  },
  {
   "cell_type": "code",
   "execution_count": 280,
   "metadata": {},
   "outputs": [
    {
     "data": {
      "text/plain": [
       "[[3, 2, 1], [6, 5, 4], [9, 8, 7]]"
      ]
     },
     "execution_count": 280,
     "metadata": {},
     "output_type": "execute_result"
    }
   ],
   "source": [
    "rotateImage(a)"
   ]
  },
  {
   "cell_type": "code",
   "execution_count": null,
   "metadata": {
    "collapsed": true
   },
   "outputs": [],
   "source": []
  },
  {
   "cell_type": "code",
   "execution_count": null,
   "metadata": {
    "collapsed": true
   },
   "outputs": [],
   "source": []
  },
  {
   "cell_type": "code",
   "execution_count": null,
   "metadata": {
    "collapsed": true
   },
   "outputs": [],
   "source": []
  }
 ],
 "metadata": {
  "kernelspec": {
   "display_name": "Python 3",
   "language": "python",
   "name": "python3"
  },
  "language_info": {
   "codemirror_mode": {
    "name": "ipython",
    "version": 3
   },
   "file_extension": ".py",
   "mimetype": "text/x-python",
   "name": "python",
   "nbconvert_exporter": "python",
   "pygments_lexer": "ipython3",
   "version": "3.6.1"
  }
 },
 "nbformat": 4,
 "nbformat_minor": 2
}
