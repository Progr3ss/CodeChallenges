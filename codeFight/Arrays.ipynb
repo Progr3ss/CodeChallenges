{
 "cells": [
  {
   "cell_type": "markdown",
   "metadata": {
    "collapsed": true
   },
   "source": [
    "Arrays operation\n",
    "\n",
    "Insert item\n",
    "Insert a given value with given index\n",
    "\n",
    "O(1)    Add new item:\n",
    "O(n)    Insert item to a given index\n",
    "\n",
    "\n",
    "Remove items\n",
    "remove the last item \n",
    "\n",
    "O(1) remove last item\n",
    "O(n) remove items with given index\n"
   ]
  },
  {
   "cell_type": "code",
   "execution_count": 6,
   "metadata": {
    "collapsed": true
   },
   "outputs": [],
   "source": [
    "import ctypes\n",
    "class DynamicArray:\n",
    "    def __init__(self):\n",
    "        self._n = 0 \n",
    "        self._capacity = 1\n",
    "        self._A = self.make_array(self.capacity)\n",
    "        \n",
    "    def __init__(self):\n",
    "        return self._n\n",
    "    \n",
    "    def __getitem__(self,k):\n",
    "        if not 0 <= k < self._n:\n",
    "            raise indexError('invalid index')\n",
    "        return self._A[k]\n",
    "    \n",
    "    def append(self, obj):\n",
    "        if self._n == self._capacity:\n",
    "            self._resize(2 * self._capacity)\n",
    "        self._A[self._n] = obj\n",
    "        self._n += 1\n",
    "            \n",
    "    def resize(self, c):\n",
    "        B = self._make_array(c)\n",
    "        for k in range(self._n):\n",
    "            B[k] = self._A[k]\n",
    "        self._A = B \n",
    "        self._capacity = c \n",
    "        \n",
    "    def remove(self, value):\n",
    "        \n",
    "        for k in range(self._n):\n",
    "            if self._A[k] == value:\n",
    "                for j in range(k, self._n - 1):\n",
    "                    self.A[j] = self._A[j+1]\n",
    "                self._A[self._n -1]  = None\n",
    "                self._n -= 1\n",
    "                return \n",
    "        raise ValueError('value not found')\n",
    "                \n",
    "        \n",
    "    def _make_array(self, c):\n",
    "        return (c * ctypes.py_objects)()\n",
    "        \n",
    "            \n"
   ]
  },
  {
   "cell_type": "code",
   "execution_count": 7,
   "metadata": {},
   "outputs": [
    {
     "ename": "AttributeError",
     "evalue": "'DynamicArray' object has no attribute '_n'",
     "output_type": "error",
     "traceback": [
      "\u001b[0;31m--------------------------------------------------\u001b[0m",
      "\u001b[0;31mAttributeError\u001b[0m   Traceback (most recent call last)",
      "\u001b[0;32m<ipython-input-7-08774c37779b>\u001b[0m in \u001b[0;36m<module>\u001b[0;34m()\u001b[0m\n\u001b[0;32m----> 1\u001b[0;31m \u001b[0mdArray\u001b[0m \u001b[0;34m=\u001b[0m \u001b[0mDynamicArray\u001b[0m\u001b[0;34m(\u001b[0m\u001b[0;34m)\u001b[0m\u001b[0;34m\u001b[0m\u001b[0m\n\u001b[0m",
      "\u001b[0;32m<ipython-input-6-ce91d0876da4>\u001b[0m in \u001b[0;36m__init__\u001b[0;34m(self)\u001b[0m\n\u001b[1;32m      7\u001b[0m \u001b[0;34m\u001b[0m\u001b[0m\n\u001b[1;32m      8\u001b[0m     \u001b[0;32mdef\u001b[0m \u001b[0m__init__\u001b[0m\u001b[0;34m(\u001b[0m\u001b[0mself\u001b[0m\u001b[0;34m)\u001b[0m\u001b[0;34m:\u001b[0m\u001b[0;34m\u001b[0m\u001b[0m\n\u001b[0;32m----> 9\u001b[0;31m         \u001b[0;32mreturn\u001b[0m \u001b[0mself\u001b[0m\u001b[0;34m.\u001b[0m\u001b[0m_n\u001b[0m\u001b[0;34m\u001b[0m\u001b[0m\n\u001b[0m\u001b[1;32m     10\u001b[0m \u001b[0;34m\u001b[0m\u001b[0m\n\u001b[1;32m     11\u001b[0m     \u001b[0;32mdef\u001b[0m \u001b[0m__getitem__\u001b[0m\u001b[0;34m(\u001b[0m\u001b[0mself\u001b[0m\u001b[0;34m,\u001b[0m\u001b[0mk\u001b[0m\u001b[0;34m)\u001b[0m\u001b[0;34m:\u001b[0m\u001b[0;34m\u001b[0m\u001b[0m\n",
      "\u001b[0;31mAttributeError\u001b[0m: 'DynamicArray' object has no attribute '_n'"
     ]
    }
   ],
   "source": [
    "dArray = DynamicArray()"
   ]
  },
  {
   "cell_type": "code",
   "execution_count": 10,
   "metadata": {
    "collapsed": true
   },
   "outputs": [],
   "source": [
    "\n",
    "\n",
    "\n",
    "a = [2,3,3,1,5,2]\n",
    "# a = [7,4,5,6,4,2,3]"
   ]
  },
  {
   "cell_type": "code",
   "execution_count": 13,
   "metadata": {
    "collapsed": true
   },
   "outputs": [],
   "source": [
    "def firstDuplicate(a):\n",
    "    found = 0\n",
    "    for i in range(0, len(a)):\n",
    "        item = abs(a[i])\n",
    "        if (a[item - 1] > 0):\n",
    "            a[item-1] = -1 * a[item-1]\n",
    "        else:\n",
    "            found = abs(a[i])\n",
    "    return abs(a[found])\n",
    "  "
   ]
  },
  {
   "cell_type": "code",
   "execution_count": 22,
   "metadata": {},
   "outputs": [
    {
     "data": {
      "text/plain": [
       "3"
      ]
     },
     "execution_count": 22,
     "metadata": {},
     "output_type": "execute_result"
    }
   ],
   "source": [
    "firstDuplicate(a)"
   ]
  },
  {
   "cell_type": "code",
   "execution_count": 14,
   "metadata": {},
   "outputs": [
    {
     "name": "stdout",
     "output_type": "stream",
     "text": [
      "4\n"
     ]
    }
   ],
   "source": [
    "def firstDuplicate2(a):\n",
    "    \n",
    "   aset = set()\n",
    "\n",
    "   for i in a:\n",
    "        \n",
    "        if i in aset:\n",
    "            \n",
    "            return i\n",
    "        else:   \n",
    "            aset.add(i)\n",
    "\n",
    "print(firstDuplicate2([7,4,5,6,4,6,3]))  "
   ]
  },
  {
   "cell_type": "code",
   "execution_count": 34,
   "metadata": {
    "collapsed": true
   },
   "outputs": [],
   "source": [
    "b =  [8, 3, 4,4, 5, 2, 8,4]"
   ]
  },
  {
   "cell_type": "code",
   "execution_count": 35,
   "metadata": {
    "collapsed": true
   },
   "outputs": [],
   "source": [
    "def arrayCenter(a):\n",
    "    n = len(a)\n",
    "    suma = a[0]\n",
    "    mina = a[0]\n",
    "    for i in range(1, n):\n",
    "        suma += a[i]\n",
    "        mina = min(mina, a[i])\n",
    "\n",
    "    b = []\n",
    "    for i in range(n):\n",
    "        if abs(n * a[i] - suma) < mina:\n",
    "            b.append(a[i-1])\n",
    "            b.append(a[i])\n",
    "    return b\n"
   ]
  },
  {
   "cell_type": "code",
   "execution_count": 36,
   "metadata": {},
   "outputs": [
    {
     "data": {
      "text/plain": [
       "[]"
      ]
     },
     "execution_count": 36,
     "metadata": {},
     "output_type": "execute_result"
    }
   ],
   "source": [
    "arrayCenter(b)"
   ]
  },
  {
   "cell_type": "code",
   "execution_count": 41,
   "metadata": {
    "collapsed": true
   },
   "outputs": [],
   "source": [
    "def firstDuplicate3(a):\n",
    "    mySet = set()\n",
    "    \n",
    "    for el in a:\n",
    "        if el in mySet:\n",
    "            return el\n",
    "        mySet.add(el)\n",
    "    return -1\n"
   ]
  },
  {
   "cell_type": "code",
   "execution_count": 43,
   "metadata": {},
   "outputs": [
    {
     "name": "stdout",
     "output_type": "stream",
     "text": [
      "{1, 2, 3, 5}\n"
     ]
    },
    {
     "data": {
      "text/plain": [
       "-1"
      ]
     },
     "execution_count": 43,
     "metadata": {},
     "output_type": "execute_result"
    }
   ],
   "source": [
    "firstDuplicate3(a)"
   ]
  },
  {
   "cell_type": "code",
   "execution_count": 1,
   "metadata": {
    "collapsed": true
   },
   "outputs": [],
   "source": [
    "s = 'abacabad'\n"
   ]
  },
  {
   "cell_type": "code",
   "execution_count": 23,
   "metadata": {
    "collapsed": true
   },
   "outputs": [],
   "source": [
    "def firstNotRepeatingCharacter(s):\n",
    "    \n",
    "    mySet = set()\n",
    "    ones = []\n",
    "    for i in s:\n",
    "        if s.count(i) == 1:\n",
    "            \n",
    "            ones.append(i)\n",
    "            \n",
    "        for j in ones:\n",
    "            \n",
    "            if j in mySet:\n",
    "                return j \n",
    "\n",
    "        mySet.add(i)\n",
    "    \n",
    "    return  '_'"
   ]
  },
  {
   "cell_type": "code",
   "execution_count": 24,
   "metadata": {},
   "outputs": [
    {
     "data": {
      "text/plain": [
       "'c'"
      ]
     },
     "execution_count": 24,
     "metadata": {},
     "output_type": "execute_result"
    }
   ],
   "source": [
    "firstNotRepeatingCharacter(s)"
   ]
  },
  {
   "cell_type": "code",
   "execution_count": 28,
   "metadata": {
    "collapsed": true
   },
   "outputs": [],
   "source": [
    "def firstNotRepeatingCharacter2(s):\n",
    "    mySet = set()\n",
    "    ones = []\n",
    "    \n",
    "    if len(s) == 1:\n",
    "        return s[0]\n",
    "    for i in s:\n",
    "        if s.count(i) == 1:\n",
    "            ones.append(i)\n",
    "            \n",
    "        mySet.add(i)\n",
    "    for j in ones:\n",
    "        if j in mySet:\n",
    "            return j\n",
    "    return '_'"
   ]
  },
  {
   "cell_type": "code",
   "execution_count": 27,
   "metadata": {},
   "outputs": [
    {
     "data": {
      "text/plain": [
       "'c'"
      ]
     },
     "execution_count": 27,
     "metadata": {},
     "output_type": "execute_result"
    }
   ],
   "source": [
    "firstNotRepeatingCharacter2(s)"
   ]
  },
  {
   "cell_type": "code",
   "execution_count": 49,
   "metadata": {
    "collapsed": true
   },
   "outputs": [],
   "source": [
    "def firstNotRepeatingCharacter3(s):\n",
    "    chk = []\n",
    "    for i in range(len(s)): \n",
    "        \n",
    "        if s[i] not in s[i+1:] and s[i] not in chk:\n",
    "            print(s[i])\n",
    "            return s[i]\n",
    "        chk.append(s[i])\n",
    "    return '_'\n",
    "            \n"
   ]
  },
  {
   "cell_type": "code",
   "execution_count": 50,
   "metadata": {},
   "outputs": [
    {
     "name": "stdout",
     "output_type": "stream",
     "text": [
      "c\n"
     ]
    },
    {
     "data": {
      "text/plain": [
       "'c'"
      ]
     },
     "execution_count": 50,
     "metadata": {},
     "output_type": "execute_result"
    }
   ],
   "source": [
    "firstNotRepeatingCharacter3(s)"
   ]
  },
  {
   "cell_type": "code",
   "execution_count": 261,
   "metadata": {
    "collapsed": true
   },
   "outputs": [],
   "source": [
    "a = [[1,2,3,],\n",
    "     [4,5,6],\n",
    "     [7,8,9]]\n",
    "\n",
    "\n",
    "#out = [[7,4,1],\n",
    "#        [8,5,2],\n",
    "#        [9,6,3]]"
   ]
  },
  {
   "cell_type": "code",
   "execution_count": 279,
   "metadata": {
    "collapsed": true
   },
   "outputs": [],
   "source": [
    "def rotateImage(a):\n",
    "    a.reverse()\n",
    "    for i in range(len(a)):\n",
    "        for j in range(i):\n",
    "            a[i][j], a[j][i] = a[j][i], a[i][j]\n",
    "    return a\n"
   ]
  },
  {
   "cell_type": "code",
   "execution_count": 280,
   "metadata": {},
   "outputs": [
    {
     "data": {
      "text/plain": [
       "[[3, 2, 1], [6, 5, 4], [9, 8, 7]]"
      ]
     },
     "execution_count": 280,
     "metadata": {},
     "output_type": "execute_result"
    }
   ],
   "source": [
    "rotateImage(a)"
   ]
  },
  {
   "cell_type": "code",
   "execution_count": null,
   "metadata": {
    "collapsed": true
   },
   "outputs": [],
   "source": []
  },
  {
   "cell_type": "code",
   "execution_count": null,
   "metadata": {
    "collapsed": true
   },
   "outputs": [],
   "source": []
  },
  {
   "cell_type": "code",
   "execution_count": null,
   "metadata": {
    "collapsed": true
   },
   "outputs": [],
   "source": []
  }
 ],
 "metadata": {
  "kernelspec": {
   "display_name": "Python 3",
   "language": "python",
   "name": "python3"
  },
  "language_info": {
   "codemirror_mode": {
    "name": "ipython",
    "version": 3
   },
   "file_extension": ".py",
   "mimetype": "text/x-python",
   "name": "python",
   "nbconvert_exporter": "python",
   "pygments_lexer": "ipython3",
   "version": "3.6.1"
  }
 },
 "nbformat": 4,
 "nbformat_minor": 2
}
