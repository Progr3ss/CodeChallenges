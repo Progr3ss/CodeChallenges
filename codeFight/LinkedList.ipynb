{
 "cells": [
  {
   "cell_type": "code",
   "execution_count": null,
   "metadata": {
    "collapsed": true
   },
   "outputs": [],
   "source": [
    "# Definition for singly-linked list:\n",
    "# class ListNode(object):\n",
    "#   def __init__(self, x):\n",
    "#     self.value = x\n",
    "#     self.next = None\n",
    "#\n",
    "#\n",
    "#"
   ]
  },
  {
   "cell_type": "code",
   "execution_count": 1,
   "metadata": {
    "collapsed": true
   },
   "outputs": [],
   "source": [
    "# class ListNode(object):\n",
    "    \n",
    "#     def __init__(self,x):\n",
    "#         self.value = x\n",
    "#         self.next = None\n",
    "\n",
    "class ListNode(object):\n",
    "    def __init__(self, val):\n",
    "        self.value = val\n",
    "        self.next = None"
   ]
  },
  {
   "cell_type": "code",
   "execution_count": 2,
   "metadata": {
    "collapsed": true
   },
   "outputs": [],
   "source": [
    "l = [3,1,2,3,4,5]\n",
    "k = 3"
   ]
  },
  {
   "cell_type": "code",
   "execution_count": 24,
   "metadata": {
    "collapsed": true
   },
   "outputs": [],
   "source": [
    "# def removeKfromList(l,k):\n",
    "    \n",
    "#     if k == 0:\n",
    "#         return l.next\n",
    "    \n",
    "#     prev = ListNode(l)\n",
    "#     top = l\n",
    "#     count = 0 \n",
    "    \n",
    "#     while top:\n",
    "#         print(l.value)\n",
    "# #         count  += 1\n",
    "# #         prev = l\n",
    "# #         head = l.next\n",
    "# #         if count == k:\n",
    "# #             prev.next = l.next\n",
    "# #             return top\n",
    "    \n",
    "    "
   ]
  },
  {
   "cell_type": "code",
   "execution_count": 33,
   "metadata": {},
   "outputs": [
    {
     "ename": "AttributeError",
     "evalue": "'list' object has no attribute 'value'",
     "output_type": "error",
     "traceback": [
      "\u001b[0;31m---------------------------------------------------------------------------\u001b[0m",
      "\u001b[0;31mAttributeError\u001b[0m                            Traceback (most recent call last)",
      "\u001b[0;32m<ipython-input-33-1acbd1cbb9c8>\u001b[0m in \u001b[0;36m<module>\u001b[0;34m()\u001b[0m\n\u001b[0;32m----> 1\u001b[0;31m \u001b[0mremoveKfromList\u001b[0m\u001b[0;34m(\u001b[0m\u001b[0ml\u001b[0m\u001b[0;34m,\u001b[0m\u001b[0mk\u001b[0m\u001b[0;34m)\u001b[0m\u001b[0;34m\u001b[0m\u001b[0m\n\u001b[0m",
      "\u001b[0;32m<ipython-input-24-1959139e2b53>\u001b[0m in \u001b[0;36mremoveKfromList\u001b[0;34m(l, k)\u001b[0m\n\u001b[1;32m      9\u001b[0m \u001b[0;34m\u001b[0m\u001b[0m\n\u001b[1;32m     10\u001b[0m     \u001b[0;32mwhile\u001b[0m \u001b[0mtop\u001b[0m\u001b[0;34m:\u001b[0m\u001b[0;34m\u001b[0m\u001b[0m\n\u001b[0;32m---> 11\u001b[0;31m         \u001b[0mprint\u001b[0m\u001b[0;34m(\u001b[0m\u001b[0ml\u001b[0m\u001b[0;34m.\u001b[0m\u001b[0mvalue\u001b[0m\u001b[0;34m)\u001b[0m\u001b[0;34m\u001b[0m\u001b[0m\n\u001b[0m\u001b[1;32m     12\u001b[0m \u001b[0;31m#         count  += 1\u001b[0m\u001b[0;34m\u001b[0m\u001b[0;34m\u001b[0m\u001b[0m\n\u001b[1;32m     13\u001b[0m \u001b[0;31m#         prev = l\u001b[0m\u001b[0;34m\u001b[0m\u001b[0;34m\u001b[0m\u001b[0m\n",
      "\u001b[0;31mAttributeError\u001b[0m: 'list' object has no attribute 'value'"
     ]
    }
   ],
   "source": [
    "# removeKfromList(l,k)"
   ]
  },
  {
   "cell_type": "code",
   "execution_count": 41,
   "metadata": {
    "collapsed": true
   },
   "outputs": [],
   "source": [
    "def removeKFromList(l, k):\n",
    "    curr = l\n",
    "    while curr is not None:\n",
    "        if curr.value != k:\n",
    "            break\n",
    "        curr = curr.next\n",
    "    # first move and set the head\n",
    "    new_head = curr\n",
    "    prev = None\n",
    "    # move along\n",
    "    while curr is not None:\n",
    "        if curr.value == k:\n",
    "            if prev is not None:\n",
    "                prev.next = curr.next\n",
    "            curr = curr.next\n",
    "            continue\n",
    "        prev = curr\n",
    "        curr = curr.next\n",
    "    return new_head"
   ]
  },
  {
   "cell_type": "code",
   "execution_count": 42,
   "metadata": {},
   "outputs": [
    {
     "ename": "AttributeError",
     "evalue": "'list' object has no attribute 'value'",
     "output_type": "error",
     "traceback": [
      "\u001b[0;31m---------------------------------------------------------------------------\u001b[0m",
      "\u001b[0;31mAttributeError\u001b[0m                            Traceback (most recent call last)",
      "\u001b[0;32m<ipython-input-42-b4797a0517c2>\u001b[0m in \u001b[0;36m<module>\u001b[0;34m()\u001b[0m\n\u001b[0;32m----> 1\u001b[0;31m \u001b[0mremoveKFromList\u001b[0m\u001b[0;34m(\u001b[0m\u001b[0ml\u001b[0m\u001b[0;34m,\u001b[0m\u001b[0mk\u001b[0m\u001b[0;34m)\u001b[0m\u001b[0;34m\u001b[0m\u001b[0m\n\u001b[0m",
      "\u001b[0;32m<ipython-input-41-e6f4935ada05>\u001b[0m in \u001b[0;36mremoveKFromList\u001b[0;34m(l, k)\u001b[0m\n\u001b[1;32m      2\u001b[0m     \u001b[0mcurr\u001b[0m \u001b[0;34m=\u001b[0m \u001b[0ml\u001b[0m\u001b[0;34m\u001b[0m\u001b[0m\n\u001b[1;32m      3\u001b[0m     \u001b[0;32mwhile\u001b[0m \u001b[0mcurr\u001b[0m \u001b[0;32mis\u001b[0m \u001b[0;32mnot\u001b[0m \u001b[0;32mNone\u001b[0m\u001b[0;34m:\u001b[0m\u001b[0;34m\u001b[0m\u001b[0m\n\u001b[0;32m----> 4\u001b[0;31m         \u001b[0;32mif\u001b[0m \u001b[0mcurr\u001b[0m\u001b[0;34m.\u001b[0m\u001b[0mvalue\u001b[0m \u001b[0;34m!=\u001b[0m \u001b[0mk\u001b[0m\u001b[0;34m:\u001b[0m\u001b[0;34m\u001b[0m\u001b[0m\n\u001b[0m\u001b[1;32m      5\u001b[0m             \u001b[0;32mbreak\u001b[0m\u001b[0;34m\u001b[0m\u001b[0m\n\u001b[1;32m      6\u001b[0m         \u001b[0mcurr\u001b[0m \u001b[0;34m=\u001b[0m \u001b[0mcurr\u001b[0m\u001b[0;34m.\u001b[0m\u001b[0mnext\u001b[0m\u001b[0;34m\u001b[0m\u001b[0m\n",
      "\u001b[0;31mAttributeError\u001b[0m: 'list' object has no attribute 'value'"
     ]
    }
   ],
   "source": [
    "removeKFromList(l,k)"
   ]
  },
  {
   "cell_type": "markdown",
   "metadata": {},
   "source": [
    "Given a singly linked list of integers l and an integer k, remove all elements from list l that have a value equal to k."
   ]
  },
  {
   "cell_type": "code",
   "execution_count": null,
   "metadata": {
    "collapsed": true
   },
   "outputs": [],
   "source": [
    "# Definition for singly-linked list:\n",
    "# class ListNode(object):\n",
    "#   def __init__(self, x):\n",
    "#     self.value = x\n",
    "#     self.next = None\n",
    "#\n",
    "def removeKFromList(l, k):\n",
    "    c = l\n",
    "    while c:\n",
    "        if c.next and c.next.value == k:\n",
    "            c.next = c.next.next\n",
    "        else:\n",
    "            c = c.next\n",
    "    return l.next if l and l.value == k else l"
   ]
  },
  {
   "cell_type": "code",
   "execution_count": 1,
   "metadata": {
    "collapsed": true
   },
   "outputs": [],
   "source": [
    "def isListPalindrome(l):\n",
    "    ar = []\n",
    "    while l:\n",
    "        x=l.value\n",
    "        ar.append(x)\n",
    "        l=l.next\n",
    "    return ar == ar[::-1]"
   ]
  },
  {
   "cell_type": "code",
   "execution_count": 1,
   "metadata": {
    "collapsed": true
   },
   "outputs": [],
   "source": [
    "# Definition for singly-linked list:\n",
    "# class ListNode(object):\n",
    "#   def __init__(self, x):\n",
    "#     self.value = x\n",
    "#     self.next = None\n",
    "#\n",
    "def addTwoHugeNumbers1(a, b):\n",
    "    aa='' \n",
    "    bb=''\n",
    "    while a:\n",
    "        aa+='0' * (4-len(str(a.value))) + str(a.value)\n",
    "        a = a.next\n",
    "    while b:\n",
    "        bb+='0' * (4-len(str(b.value))) + str(b.value)\n",
    "        b = b.next    \n",
    "    suma = str(int(aa)+int(bb))\n",
    "    c = '0' *(0 if len(suma)%4 == 0 else 4 - len (suma)%4)+suma\n",
    "    cc = [int(c[4*i:4*i+4]) for i in range(len(c)//4)]\n",
    "    node = ListNode(cc[0])\n",
    "    l =node\n",
    "    for i in range(len(cc)-1):\n",
    "        new_node = ListNode(cc[i+1])\n",
    "        l.next = new_node\n",
    "        l = l.next\n",
    "    return node"
   ]
  },
  {
   "cell_type": "code",
   "execution_count": 3,
   "metadata": {
    "collapsed": true
   },
   "outputs": [],
   "source": [
    "# Definition for singly-linked list:\n",
    "# class ListNode(object):\n",
    "#   def __init__(self, x):\n",
    "#     self.value = x\n",
    "#     self.next = None\n",
    "#\n",
    "def get_num(a):\n",
    "    cnt_a = 1\n",
    "    a_num = ''\n",
    "    while a.next != None:\n",
    "        \n",
    "        if cnt_a:\n",
    "            cnt_a = 0        \n",
    "            a_num += str(a.value)\n",
    "        else:\n",
    "            a_num += ('0' * (4 - len(str(a.value)))) + str(a.value)\n",
    "                      \n",
    "        a = a.next\n",
    "    a_num += ('0' * (4 - len(str(a.value)))) + str(a.value)\n",
    "\n",
    "    return int(a_num)\n",
    "\n",
    "def addTwoHugeNumbers(a, b):\n",
    "\n",
    "    a_num = get_num(a)\n",
    "    b_num = get_num(b)\n",
    "    #print(a_num)\n",
    "    #print(b_num)\n",
    "    \n",
    "    sm = str(a_num + b_num)\n",
    "    #print(sm)\n",
    "    \n",
    "    ret_list = []\n",
    "    sm = sm[-1::-1]\n",
    "    for i in range(0,len(sm), 4):\n",
    "        num = sm[i:i+4]\n",
    "        num = int(num[-1::-1])\n",
    "        \n",
    "        ret_list += [num]\n",
    "        \n",
    "    ret_list = ret_list[-1::-1]\n",
    "    \n",
    "    return ret_list\n"
   ]
  },
  {
   "cell_type": "code",
   "execution_count": null,
   "metadata": {
    "collapsed": true
   },
   "outputs": [],
   "source": []
  }
 ],
 "metadata": {
  "kernelspec": {
   "display_name": "Python 3",
   "language": "python",
   "name": "python3"
  },
  "language_info": {
   "codemirror_mode": {
    "name": "ipython",
    "version": 3
   },
   "file_extension": ".py",
   "mimetype": "text/x-python",
   "name": "python",
   "nbconvert_exporter": "python",
   "pygments_lexer": "ipython3",
   "version": "3.6.1"
  }
 },
 "nbformat": 4,
 "nbformat_minor": 2
}
